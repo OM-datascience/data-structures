{
  "nbformat": 4,
  "nbformat_minor": 0,
  "metadata": {
    "colab": {
      "provenance": []
    },
    "kernelspec": {
      "name": "python3",
      "display_name": "Python 3"
    },
    "language_info": {
      "name": "python"
    }
  },
  "cells": [
    {
      "cell_type": "markdown",
      "source": [
        "# **# Data Types and Structures Assignment**"
      ],
      "metadata": {
        "id": "W5HCy_FHZeqN"
      }
    },
    {
      "cell_type": "markdown",
      "source": [
        "**Theoretical Questions**"
      ],
      "metadata": {
        "id": "Ssz4hgJNZilU"
      }
    },
    {
      "cell_type": "markdown",
      "source": [
        "# 1. What are data structures, and why are they important?\n",
        "\n",
        "Data structures are ways to store and organize data in a computer to make it easy to use.\n",
        "We can think of them as containers like boxes or shelves for data.\n",
        "They’re important because they help:\n",
        "- Store data efficiently\n",
        "- Make operations like searching or sorting faster\n",
        "- Keep code clean and organized\n",
        "Example: A list can hold a collection of grades, and a dictionary can map student names to their scores."
      ],
      "metadata": {
        "id": "PnDEDWlNZ0DK"
      }
    },
    {
      "cell_type": "markdown",
      "source": [
        "# 2. Explain the difference between mutable and immutable data types with examples.\n",
        "\n",
        "Mutable data types can be changed after creation, like adding to a list.\n",
        "Immutable data types can’t be changed; a new object must be created.\n",
        "\n",
        "Example:\n",
        "- Mutable: Add a number to a list of scores.\n",
        "- Immutable: Can’t change a letter in a word; need a new word.\n",
        "\n",
        "scores = [90, 85]\n",
        "\n",
        "scores.append(95)  # List becomes [90, 85, 95] #thats an example of mutable data\n",
        "\n",
        "now for immutable data :\n",
        "\n",
        "word = \"Om\"\n",
        "\n",
        "new_word = \"Tom\"  # Creates a new string, \"Om\" stays unchanged ."
      ],
      "metadata": {
        "id": "CrkgvkTPaSps"
      }
    },
    {
      "cell_type": "markdown",
      "source": [
        "# 3. What are the main differences between lists and tuples in Python?\n",
        "\n",
        "Lists:\n",
        "- Can be changed (mutable)\n",
        "- Use square brackets []\n",
        "- Slower than tuples\n",
        "Tuples:\n",
        "- Can’t be changed (immutable)\n",
        "- Use parentheses ()\n",
        "- Faster than lists\n",
        "Example:\n",
        "\n",
        "my_list = [1, 2, 3]\n",
        "\n",
        "my_list[0] = 10  # Works: list is mutable\n",
        "\n",
        "my_tuple = (1, 2, 3)\n",
        "\n",
        "my_tuple[0] = 10  # Error: tuple is immutable\n"
      ],
      "metadata": {
        "id": "Yd6E0iDsb0oQ"
      }
    },
    {
      "cell_type": "markdown",
      "source": [
        "# 4. Describe how dictionaries store data.\n",
        "\n",
        "Dictionaries store data as key-value pairs, like a phonebook linking names to numbers.\n",
        "Keys are unique and immutable (like strings or numbers), and values can be anything.\n",
        "Use keys to access values quickly.\n",
        "Example:\n",
        "\n",
        "student = {\"name\": \"Om\", \"grade\": 95}\n",
        "\n",
        "print(student[\"name\"])  # Gets \"Om\"\n"
      ],
      "metadata": {
        "id": "9-alz07AcN90"
      }
    },
    {
      "cell_type": "markdown",
      "source": [
        "# 5. Why might a set be used instead of a list in Python?\n",
        "\n",
        "Sets are useful for:\n",
        "- Keeping only unique items\n",
        "- Fast checks for existence\n",
        "- Operations like union or intersection\n",
        "\n",
        "Example: Remove duplicates from a list of colors.\n",
        "\n",
        "colors = [\"blue\", \"red\", \"blue\"]\n",
        "\n",
        "unique_colors = set(colors)  # Keeps unique colors"
      ],
      "metadata": {
        "id": "sU2nH9--cY0k"
      }
    },
    {
      "cell_type": "markdown",
      "source": [
        "# 6. What is a string in Python, and how is it different from a list?\n",
        "\n",
        "A string is a sequence of characters, like \"Om\", and it’s immutable (can’t change).\n",
        "\n",
        "A list is a mutable sequence of any data type, using [].\n",
        "\n",
        "Example:\n",
        "\n",
        "my_string = \"Om\"  # Can’t change characters\n",
        "\n",
        "my_list = [\"O\", \"m\"]  # Can change elements\n",
        "\n",
        "my_list[0] = \"P\"  # Works\n",
        "\n",
        " my_string[0] = \"P\"  # Error"
      ],
      "metadata": {
        "id": "WV1ae-D2cjDA"
      }
    },
    {
      "cell_type": "markdown",
      "source": [
        "# 7. How do tuples ensure data integrity in Python?\n",
        "\n",
        "Tuples are immutable, so their data can’t be changed after creation.\n",
        "\n",
        "This keeps data consistent, like for a fixed birthdate.\n",
        "\n",
        "Example:\n",
        "\n",
        "birthdate = (2005, 7, 26)  # Can’t modify\n",
        "\n",
        " birthdate[0] = 2006  # Error"
      ],
      "metadata": {
        "id": "sifxMIQzcw0e"
      }
    },
    {
      "cell_type": "markdown",
      "source": [
        "# 8. What is a hash table, and how does it relate to dictionaries in Python?\n",
        "A hash table is a structure that maps keys to values using a hash function for fast access.\n",
        "\n",
        "Python dictionaries use hash tables to store key-value pairs efficiently.\n",
        "\n",
        "Example:\n",
        "\n",
        "my_dict = {\"name\": \"Om\", \"age\": 20}  # Keys are hashed for quick access\n"
      ],
      "metadata": {
        "id": "AWPvondrc8zV"
      }
    },
    {
      "cell_type": "markdown",
      "source": [
        "# 9. Can lists contain different data types in Python?\n",
        "Yes, lists can hold a mix of data types, like numbers, strings, or other lists.\n",
        "\n",
        "Example:\n",
        "\n",
        "mixed = [1, \"Om\", 3.14, [4, 5]]"
      ],
      "metadata": {
        "id": "PbJZXYlEdKS6"
      }
    },
    {
      "cell_type": "markdown",
      "source": [
        "# 10. Explain why strings are immutable in Python.\n",
        "\n",
        "Strings are immutable to save memory and keep them safe in functions.\n",
        "To modify a string, a new one must be created.\n",
        "\n",
        "Example:\n",
        "\n",
        "name = \"Om\"\n",
        "\n",
        "new_name = name + \"upadhyay\"  # Creates new string"
      ],
      "metadata": {
        "id": "in4tqSyydU4t"
      }
    },
    {
      "cell_type": "markdown",
      "source": [
        "# 11. What advantages do dictionaries offer over lists for certain tasks?\n",
        "\n",
        "Dictionaries are great for:\n",
        "- Fast lookup by key\n",
        "- Pairing data (e.g., names to grades)\n",
        "\n",
        "Example: Finding a grade by name is faster with a dictionary.\n",
        "\n",
        "\n",
        "grades = {\"Om\": 95, \"Alice\": 90}\n",
        "\n",
        "print(grades[\"Om\"])  # Quick access"
      ],
      "metadata": {
        "id": "D8Dz7dWDdmLY"
      }
    },
    {
      "cell_type": "markdown",
      "source": [
        "# 12. Describe a scenario where using a tuple would be preferable over a list.\n",
        "\n",
        "Tuples are better for data that shouldn’t change, like a student ID and name pair.\n",
        "\n",
        "This prevents accidental changes.\n",
        "\n",
        "Example:\n",
        "\n",
        "student_info = (\"12345\", \"Om\")  # Fixed data\n"
      ],
      "metadata": {
        "id": "XEK8_f-Vdwnn"
      }
    },
    {
      "cell_type": "markdown",
      "source": [
        "# 13. How do sets handle duplicate values in Python?\n",
        "\n",
        "Sets automatically remove duplicates, keeping only unique values.\n",
        "\n",
        "Example:\n",
        "\n",
        "numbers = [1, 1, 2, 3]\n",
        "\n",
        "unique_set = set(numbers)  # Becomes {1, 2, 3}\n"
      ],
      "metadata": {
        "id": "bC9lCdNid6U-"
      }
    },
    {
      "cell_type": "markdown",
      "source": [
        "# 14. How does the 'in' keyword work differently for lists and dictionaries?\n",
        "\n",
        "- Lists: Checks if an item is in the list (slower, checks each element).\n",
        "- Dictionaries: Checks if a key exists (faster, uses hash table).\n",
        "\n",
        "Example:\n",
        "\n",
        "my_list = [1, 2, 3]\n",
        "\n",
        "my_dict = {\"name\": \"Om\", \"age\": 20}\n",
        "\n",
        "print(2 in my_list)  # Checks values\n",
        "\n",
        "print(\"name\" in my_dict)  # Checks keys"
      ],
      "metadata": {
        "id": "gk5bqrrEeGs5"
      }
    },
    {
      "cell_type": "markdown",
      "source": [
        "# 15. Can the elements of a tuple be modified? Explain why or why not.\n",
        "\n",
        "No, tuple elements can’t be modified because tuples are immutable.\n",
        "This protects data but requires creating a new tuple for changes.\n",
        "\n",
        "Example:\n",
        "\n",
        "my_tuple = (1, 2, 3)\n",
        "\n",
        " my_tuple[0] = 4  # Error\n"
      ],
      "metadata": {
        "id": "9dlqe_b1eUdk"
      }
    },
    {
      "cell_type": "markdown",
      "source": [
        "# 16. What is a nested dictionary, and give an example of its use case?\n",
        "\n",
        "A nested dictionary is a dictionary inside another dictionary.\n",
        "It’s useful for complex data, like grades for multiple subjects.\n",
        "\n",
        "Example:\n",
        "\n",
        "\n",
        "students = {\n",
        "    \"Om\": {\"math\": 95, \"science\": 90},\n",
        "\n",
        "  \"Alice\": {\"math\": 88, \"science\": 85}\n",
        "}\n",
        "\n",
        "print(students[\"Om\"][\"math\"])  # Gets 95\n"
      ],
      "metadata": {
        "id": "XOJthuNXecFK"
      }
    },
    {
      "cell_type": "markdown",
      "source": [
        "# 17. Describe the time complexity of accessing elements in a dictionary.\n",
        "\n",
        "Accessing a dictionary value by key is O(1) due to the hash table.\n",
        "\n",
        "Example:\n",
        "\n",
        "my_dict = {\"name\": \"Om\"}\n",
        "\n",
        "print(my_dict[\"name\"])  # Fast lookup"
      ],
      "metadata": {
        "id": "HyP60gTIe8dg"
      }
    },
    {
      "cell_type": "markdown",
      "source": [
        "# 18. In what situations are lists preferred over dictionaries?\n",
        "\n",
        "Lists are better for:\n",
        "- Ordered data\n",
        "- Allowing duplicates\n",
        "- Accessing by position (index)\n",
        "\n",
        "Example: A list of test scores in order.\n",
        "\n",
        "scores = [90, 85, 95]\n"
      ],
      "metadata": {
        "id": "F6GnbntmerLn"
      }
    },
    {
      "cell_type": "markdown",
      "source": [
        "# 19. Why are dictionaries considered unordered, and how does that affect data retrieval?\n",
        "\n",
        "Dictionaries don’t guarantee order (though Python 3.7+ keeps insertion order).\n",
        "Data is retrieved by key, so order doesn’t affect lookup.\n",
        "\n",
        "Example:\n",
        "\n",
        "my_dict = {\"b\": 2, \"a\": 1}\n",
        "\n",
        "print(my_dict[\"a\"])  # Works regardless of order\n"
      ],
      "metadata": {
        "id": "a-koM3mFfObs"
      }
    },
    {
      "cell_type": "markdown",
      "source": [
        "# 20. Explain the difference between a list and a dictionary in terms of data retrieval.\n",
        "\n",
        "- Lists: Access by index (O(1)), but searching for a value is O(n).\n",
        "- Dictionaries: Access by key (O(1)), no index-based access.\n",
        "\n",
        "Example:\n",
        "\n",
        "my_list = [10, 20, 30]\n",
        "\n",
        "my_dict = {\"score1\": 10, \"score2\": 20}\n",
        "\n",
        "print(my_list[1])  # Gets 20\n",
        "\n",
        "print(my_dict[\"score2\"])  # Gets 20"
      ],
      "metadata": {
        "id": "isXbx0gxfgGd"
      }
    },
    {
      "cell_type": "markdown",
      "source": [
        "# Practical Questions"
      ],
      "metadata": {
        "id": "Km0iiUslfwN7"
      }
    },
    {
      "cell_type": "code",
      "source": [
        "# 1. Write a code to create a string with my name and print it.\n",
        "my_name = \"Om\"\n",
        "print(my_name)\n"
      ],
      "metadata": {
        "colab": {
          "base_uri": "https://localhost:8080/"
        },
        "id": "DVvY-4X7fyRL",
        "outputId": "615dbe9a-8e65-4714-ada5-7a4172f44ac9"
      },
      "execution_count": 1,
      "outputs": [
        {
          "output_type": "stream",
          "name": "stdout",
          "text": [
            "Om\n"
          ]
        }
      ]
    },
    {
      "cell_type": "code",
      "source": [
        "# 2. Write a code to find the length of the string 'Hello World'.\n",
        "text = \"Hello World\"\n",
        "print(len(text))\n"
      ],
      "metadata": {
        "colab": {
          "base_uri": "https://localhost:8080/"
        },
        "id": "u24YnUsGf7Bq",
        "outputId": "424d463d-3854-496b-9d5c-3f0e302e141e"
      },
      "execution_count": 2,
      "outputs": [
        {
          "output_type": "stream",
          "name": "stdout",
          "text": [
            "11\n"
          ]
        }
      ]
    },
    {
      "cell_type": "code",
      "source": [
        "# 3. Write a code to slice the first 3 characters from the string 'Python Programming'.\n",
        "text = \"Python Programming\"\n",
        "print(text[:3])\n"
      ],
      "metadata": {
        "colab": {
          "base_uri": "https://localhost:8080/"
        },
        "id": "BNuZCZWPhd_C",
        "outputId": "16f2d9d7-f94c-459a-d754-06218e04885c"
      },
      "execution_count": 30,
      "outputs": [
        {
          "output_type": "stream",
          "name": "stdout",
          "text": [
            "Pyt\n"
          ]
        }
      ]
    },
    {
      "cell_type": "code",
      "source": [
        "# 4. Write a code to convert the string 'hello' to uppercase.\n",
        "text = \"hello\"\n",
        "print(text.upper())"
      ],
      "metadata": {
        "colab": {
          "base_uri": "https://localhost:8080/"
        },
        "id": "iUdnnrcCf7FZ",
        "outputId": "f8cdd435-3a2d-42fb-870a-94e1a730485e"
      },
      "execution_count": 3,
      "outputs": [
        {
          "output_type": "stream",
          "name": "stdout",
          "text": [
            "HELLO\n"
          ]
        }
      ]
    },
    {
      "cell_type": "code",
      "source": [
        "# 5. Write a code to replace the word 'apple' with 'orange' in the string 'I like apple'.\n",
        "text = \"I like apple\"\n",
        "print(text.replace(\"apple\", \"orange\"))"
      ],
      "metadata": {
        "colab": {
          "base_uri": "https://localhost:8080/"
        },
        "id": "auqJs63Gf7IX",
        "outputId": "0516c7c0-cc9d-48bc-e78a-8b2154abf97c"
      },
      "execution_count": 4,
      "outputs": [
        {
          "output_type": "stream",
          "name": "stdout",
          "text": [
            "I like orange\n"
          ]
        }
      ]
    },
    {
      "cell_type": "code",
      "source": [
        "# 6. Write a code to create a list with numbers 1 to 5 and print it.\n",
        "numbers = [1, 2, 3, 4, 5]\n",
        "print(numbers)\n"
      ],
      "metadata": {
        "colab": {
          "base_uri": "https://localhost:8080/"
        },
        "id": "5p5vkoebf7Kp",
        "outputId": "9c955bda-737a-488c-d910-77543aa29458"
      },
      "execution_count": 5,
      "outputs": [
        {
          "output_type": "stream",
          "name": "stdout",
          "text": [
            "[1, 2, 3, 4, 5]\n"
          ]
        }
      ]
    },
    {
      "cell_type": "code",
      "source": [
        "# 7. Write a code to append the number 10 to the list [1, 2, 3, 4].\n",
        "my_list = [1, 2, 3, 4]\n",
        "my_list.append(10)\n",
        "print(my_list)"
      ],
      "metadata": {
        "colab": {
          "base_uri": "https://localhost:8080/"
        },
        "id": "kNtFSY6sf7NC",
        "outputId": "29837d32-e37c-4fc7-ef68-dfce30791144"
      },
      "execution_count": 6,
      "outputs": [
        {
          "output_type": "stream",
          "name": "stdout",
          "text": [
            "[1, 2, 3, 4, 10]\n"
          ]
        }
      ]
    },
    {
      "cell_type": "code",
      "source": [
        "# 8. Write a code to remove the number 3 from the list [1, 2, 3, 4, 5].\n",
        "my_list = [1, 2, 3, 4, 5]\n",
        "my_list.remove(3)\n",
        "print(my_list)"
      ],
      "metadata": {
        "colab": {
          "base_uri": "https://localhost:8080/"
        },
        "id": "uDNhTBUxgXU0",
        "outputId": "6857756a-cc3c-4e0b-af73-bb17c3604b24"
      },
      "execution_count": 7,
      "outputs": [
        {
          "output_type": "stream",
          "name": "stdout",
          "text": [
            "[1, 2, 4, 5]\n"
          ]
        }
      ]
    },
    {
      "cell_type": "code",
      "source": [
        "# 9. Write a code to access the second element in the list [\"a\", \"b\", \"c\", \"d\"].\n",
        "my_list = [\"a\", \"b\", \"c\", \"d\"]\n",
        "print(my_list[1])\n"
      ],
      "metadata": {
        "colab": {
          "base_uri": "https://localhost:8080/"
        },
        "id": "pLGPQCbcgfjT",
        "outputId": "c78586b2-d39b-4548-d985-ebf406087fa8"
      },
      "execution_count": 8,
      "outputs": [
        {
          "output_type": "stream",
          "name": "stdout",
          "text": [
            "b\n"
          ]
        }
      ]
    },
    {
      "cell_type": "code",
      "source": [
        "# 10. Write a code to reverse the list [10, 20, 30, 40, 50].\n",
        "my_list = [10, 20, 30, 40, 50]\n",
        "my_list.reverse()\n",
        "print(my_list)\n"
      ],
      "metadata": {
        "colab": {
          "base_uri": "https://localhost:8080/"
        },
        "id": "m2AbeaXMgfma",
        "outputId": "25687f88-60dc-42b0-cb5d-c32b9b6442af"
      },
      "execution_count": 9,
      "outputs": [
        {
          "output_type": "stream",
          "name": "stdout",
          "text": [
            "[50, 40, 30, 20, 10]\n"
          ]
        }
      ]
    },
    {
      "cell_type": "code",
      "source": [
        "# 11. Write a code to create a tuple with the elements 100, 200, 300 and print it.\n",
        "my_tuple = (100, 200, 300)\n",
        "print(my_tuple)\n"
      ],
      "metadata": {
        "colab": {
          "base_uri": "https://localhost:8080/"
        },
        "id": "b9ME_aEtgfpH",
        "outputId": "05ea49ca-ebdc-4699-f6cf-0b8f04c051ee"
      },
      "execution_count": 10,
      "outputs": [
        {
          "output_type": "stream",
          "name": "stdout",
          "text": [
            "(100, 200, 300)\n"
          ]
        }
      ]
    },
    {
      "cell_type": "code",
      "source": [
        "# 12. Write a code to access the second-to-last element of the tuple ('red', 'green', 'blue', 'yellow').\n",
        "my_tuple = ('red', 'green', 'blue', 'yellow')\n",
        "print(my_tuple[-2])\n"
      ],
      "metadata": {
        "colab": {
          "base_uri": "https://localhost:8080/"
        },
        "id": "mvzsVvCkgfsl",
        "outputId": "f158d8e1-396d-49c6-f57b-6d8c1804fd7d"
      },
      "execution_count": 11,
      "outputs": [
        {
          "output_type": "stream",
          "name": "stdout",
          "text": [
            "blue\n"
          ]
        }
      ]
    },
    {
      "cell_type": "code",
      "source": [
        "# 13. Write a code to find the minimum number in the tuple (10, 20, 5, 15).\n",
        "my_tuple = (10, 20, 5, 15)\n",
        "print(min(my_tuple))"
      ],
      "metadata": {
        "colab": {
          "base_uri": "https://localhost:8080/"
        },
        "id": "rlXsFWNagfvr",
        "outputId": "48364775-667e-401e-ca78-e0157499f433"
      },
      "execution_count": 12,
      "outputs": [
        {
          "output_type": "stream",
          "name": "stdout",
          "text": [
            "5\n"
          ]
        }
      ]
    },
    {
      "cell_type": "code",
      "source": [
        "# 14. Write a code to find the index of the element 'cat' in the tuple ('dog', 'cat', 'rabbit').\n",
        "my_tuple = ('dog', 'cat', 'rabbit')\n",
        "print(my_tuple.index('cat'))\n"
      ],
      "metadata": {
        "colab": {
          "base_uri": "https://localhost:8080/"
        },
        "id": "DkraaNASgfyP",
        "outputId": "b849debd-fc76-403e-8335-7cd7e7a8e09e"
      },
      "execution_count": 13,
      "outputs": [
        {
          "output_type": "stream",
          "name": "stdout",
          "text": [
            "1\n"
          ]
        }
      ]
    },
    {
      "cell_type": "code",
      "source": [
        "# 15. Write a code to create a tuple containing three different fruits and check if 'kiwi' is in it.\n",
        "fruits = ('apple', 'banana', 'orange')\n",
        "print('kiwi' in fruits)\n"
      ],
      "metadata": {
        "colab": {
          "base_uri": "https://localhost:8080/"
        },
        "id": "w-jdhO-Bgf0y",
        "outputId": "349b1f22-21e1-4633-9526-be18f8dbc079"
      },
      "execution_count": 14,
      "outputs": [
        {
          "output_type": "stream",
          "name": "stdout",
          "text": [
            "False\n"
          ]
        }
      ]
    },
    {
      "cell_type": "code",
      "source": [
        "# 16. Write a code to create a set with the elements 'a', 'b', 'c' and print it.\n",
        "my_set = {'a', 'b', 'c'}\n",
        "print(my_set)\n"
      ],
      "metadata": {
        "colab": {
          "base_uri": "https://localhost:8080/"
        },
        "id": "G5VmBNIigf8g",
        "outputId": "a837ee09-a5aa-4c07-cf97-726fac276857"
      },
      "execution_count": 15,
      "outputs": [
        {
          "output_type": "stream",
          "name": "stdout",
          "text": [
            "{'c', 'a', 'b'}\n"
          ]
        }
      ]
    },
    {
      "cell_type": "code",
      "source": [
        "# 17. Write a code to clear all elements from the set {1, 2, 3, 4, 5}.\n",
        "my_set = {1, 2, 3, 4, 5}\n",
        "my_set.clear()\n",
        "print(my_set)\n"
      ],
      "metadata": {
        "colab": {
          "base_uri": "https://localhost:8080/"
        },
        "id": "IYYnme8Qgf_X",
        "outputId": "a21a563e-1b4f-4fc5-ab1c-83a09991887c"
      },
      "execution_count": 16,
      "outputs": [
        {
          "output_type": "stream",
          "name": "stdout",
          "text": [
            "set()\n"
          ]
        }
      ]
    },
    {
      "cell_type": "code",
      "source": [
        "# 18. Write a code to remove the element 4 from the set {1, 2, 3, 4}.\n",
        "my_set = {1, 2, 3, 4}\n",
        "my_set.remove(4)\n",
        "print(my_set)"
      ],
      "metadata": {
        "colab": {
          "base_uri": "https://localhost:8080/"
        },
        "id": "JJYjWJHBggCO",
        "outputId": "75ac57db-e0d2-499f-cdc2-72f493d80c14"
      },
      "execution_count": 17,
      "outputs": [
        {
          "output_type": "stream",
          "name": "stdout",
          "text": [
            "{1, 2, 3}\n"
          ]
        }
      ]
    },
    {
      "cell_type": "code",
      "source": [
        "# 19. Write a code to find the union of two sets {1, 2, 3} and {3, 4, 5}.\n",
        "set1 = {1, 2, 3}\n",
        "set2 = {3, 4, 5}\n",
        "union_set = set1.union(set2)\n",
        "print(union_set)"
      ],
      "metadata": {
        "colab": {
          "base_uri": "https://localhost:8080/"
        },
        "id": "fFrCA8ZSggFS",
        "outputId": "908d0f88-6fb5-469c-f99e-21722cc32be8"
      },
      "execution_count": 18,
      "outputs": [
        {
          "output_type": "stream",
          "name": "stdout",
          "text": [
            "{1, 2, 3, 4, 5}\n"
          ]
        }
      ]
    },
    {
      "cell_type": "code",
      "source": [
        "# 20. Write a code to find the intersection of two sets {1, 2, 3} and {3, 4, 5}.\n",
        "set1 = {1, 2, 3}\n",
        "set2 = {3, 4, 5}\n",
        "intersection_set = set1.intersection(set2)\n",
        "print(intersection_set)\n"
      ],
      "metadata": {
        "colab": {
          "base_uri": "https://localhost:8080/"
        },
        "id": "XQAJNGSfggIe",
        "outputId": "281f1e51-9dbd-4b14-fc40-b498239415d8"
      },
      "execution_count": 19,
      "outputs": [
        {
          "output_type": "stream",
          "name": "stdout",
          "text": [
            "{3}\n"
          ]
        }
      ]
    },
    {
      "cell_type": "code",
      "source": [
        "# 21. Write a code to create a dictionary with the keys 'name', 'age', and 'city' and print it.\n",
        "my_dict = {'name': 'Om', 'age': 20, 'city': 'Mumbai'}\n",
        "print(my_dict)"
      ],
      "metadata": {
        "colab": {
          "base_uri": "https://localhost:8080/"
        },
        "id": "JufX7-RJggNS",
        "outputId": "a4239709-4736-46ca-859b-5c58e0d38972"
      },
      "execution_count": 20,
      "outputs": [
        {
          "output_type": "stream",
          "name": "stdout",
          "text": [
            "{'name': 'Om', 'age': 20, 'city': 'Mumbai'}\n"
          ]
        }
      ]
    },
    {
      "cell_type": "code",
      "source": [
        "# 22. Write a code to add a new key-value pair 'country': 'India' to the dictionary {'name': 'John', 'age': 25}.\n",
        "my_dict = {'name': 'John', 'age': 25}\n",
        "my_dict['country'] = 'India'\n",
        "print(my_dict)\n"
      ],
      "metadata": {
        "colab": {
          "base_uri": "https://localhost:8080/"
        },
        "id": "UJy3FgQ-ggS8",
        "outputId": "8485d050-f4ae-45f1-cf95-e31e0e64962a"
      },
      "execution_count": 21,
      "outputs": [
        {
          "output_type": "stream",
          "name": "stdout",
          "text": [
            "{'name': 'John', 'age': 25, 'country': 'India'}\n"
          ]
        }
      ]
    },
    {
      "cell_type": "code",
      "source": [
        "# 23. Write a code to access the value associated with the key 'name' in the dictionary {'name': 'Alice', 'age': 30}.\n",
        "my_dict = {'name': 'Alice', 'age': 30}\n",
        "print(my_dict['name'])\n"
      ],
      "metadata": {
        "colab": {
          "base_uri": "https://localhost:8080/"
        },
        "id": "L6wKBHBjhdgy",
        "outputId": "ff910ae5-9618-4a38-c624-a0457362afea"
      },
      "execution_count": 22,
      "outputs": [
        {
          "output_type": "stream",
          "name": "stdout",
          "text": [
            "Alice\n"
          ]
        }
      ]
    },
    {
      "cell_type": "code",
      "source": [
        "# 24. Write a code to remove the key 'age' from the dictionary {'name': 'Bob', 'age': 22, 'city': 'New York'}.\n",
        "my_dict = {'name': 'Bob', 'age': 22, 'city': 'New York'}\n",
        "del my_dict['age']\n",
        "print(my_dict)"
      ],
      "metadata": {
        "colab": {
          "base_uri": "https://localhost:8080/"
        },
        "id": "DzPizmckhdkX",
        "outputId": "d765c97e-b3ef-43d9-f38e-d1b157051881"
      },
      "execution_count": 23,
      "outputs": [
        {
          "output_type": "stream",
          "name": "stdout",
          "text": [
            "{'name': 'Bob', 'city': 'New York'}\n"
          ]
        }
      ]
    },
    {
      "cell_type": "code",
      "source": [
        "# 25. Write a code to check if the key 'city' exists in the dictionary {'name': 'Alice', 'city': 'Paris'}.\n",
        "my_dict = {'name': 'Alice', 'city': 'Paris'}\n",
        "print('city' in my_dict)"
      ],
      "metadata": {
        "colab": {
          "base_uri": "https://localhost:8080/"
        },
        "id": "P3uIm08thdox",
        "outputId": "954371ea-884a-40f3-935a-1f26f4319c3d"
      },
      "execution_count": 24,
      "outputs": [
        {
          "output_type": "stream",
          "name": "stdout",
          "text": [
            "True\n"
          ]
        }
      ]
    },
    {
      "cell_type": "code",
      "source": [
        "# 26. Write a code to create a list, a tuple, and a dictionary, and print them all.\n",
        "my_list = [1, 2, 3]\n",
        "my_tuple = ('a', 'b', 'c')\n",
        "my_dict = {'name': 'Om', 'score': 95}\n",
        "print(\"List:\", my_list)\n",
        "print(\"Tuple:\", my_tuple)\n",
        "print(\"Dictionary:\", my_dict)\n"
      ],
      "metadata": {
        "colab": {
          "base_uri": "https://localhost:8080/"
        },
        "id": "fuEN43mKhduz",
        "outputId": "7d9874b7-e73a-43b6-88aa-0510a7ee4dd5"
      },
      "execution_count": 25,
      "outputs": [
        {
          "output_type": "stream",
          "name": "stdout",
          "text": [
            "List: [1, 2, 3]\n",
            "Tuple: ('a', 'b', 'c')\n",
            "Dictionary: {'name': 'Om', 'score': 95}\n"
          ]
        }
      ]
    },
    {
      "cell_type": "code",
      "source": [
        "# 27. Write a code to create a list of 5 random numbers between 1 and 100, sort it in ascending order, and print the result.\n",
        "import random\n",
        "numbers = [random.randint(1, 100) for _ in range(5)]\n",
        "numbers.sort()\n",
        "print(numbers)"
      ],
      "metadata": {
        "colab": {
          "base_uri": "https://localhost:8080/"
        },
        "id": "M_ICZ3pyhdzI",
        "outputId": "efd5b30a-0cb7-4277-e15f-c4fa8ba86442"
      },
      "execution_count": 26,
      "outputs": [
        {
          "output_type": "stream",
          "name": "stdout",
          "text": [
            "[12, 22, 24, 44, 95]\n"
          ]
        }
      ]
    },
    {
      "cell_type": "code",
      "source": [
        "# 28. Write a code to create a list with strings and print the element at the third index.\n",
        "strings = ['apple', 'banana', 'orange', 'grape', 'kiwi']\n",
        "print(strings[2])"
      ],
      "metadata": {
        "colab": {
          "base_uri": "https://localhost:8080/"
        },
        "id": "LZ5LTXRVhd2T",
        "outputId": "5b958b82-a886-4e23-c147-accb5abcbdee"
      },
      "execution_count": 27,
      "outputs": [
        {
          "output_type": "stream",
          "name": "stdout",
          "text": [
            "orange\n"
          ]
        }
      ]
    },
    {
      "cell_type": "code",
      "source": [
        "# 29. Write a code to combine two dictionaries into one and print the result.\n",
        "dict1 = {'a': 1, 'b': 2}\n",
        "dict2 = {'c': 3, 'd': 4}\n",
        "combined_dict = {**dict1, **dict2}\n",
        "print(combined_dict)"
      ],
      "metadata": {
        "colab": {
          "base_uri": "https://localhost:8080/"
        },
        "id": "cracPJHAhd5B",
        "outputId": "72388b38-954e-48ee-fb20-249a98a625c4"
      },
      "execution_count": 28,
      "outputs": [
        {
          "output_type": "stream",
          "name": "stdout",
          "text": [
            "{'a': 1, 'b': 2, 'c': 3, 'd': 4}\n"
          ]
        }
      ]
    },
    {
      "cell_type": "code",
      "source": [
        "# 30. Write a code to convert a list of strings into a set.\n",
        "string_list = ['cat', 'dog', 'cat', 'bird']\n",
        "string_set = set(string_list)\n",
        "print(string_set)"
      ],
      "metadata": {
        "colab": {
          "base_uri": "https://localhost:8080/"
        },
        "id": "R6Tv24Cqhd7-",
        "outputId": "e0cabe2d-5fb4-489a-a31c-da2c9aabc714"
      },
      "execution_count": 29,
      "outputs": [
        {
          "output_type": "stream",
          "name": "stdout",
          "text": [
            "{'cat', 'bird', 'dog'}\n"
          ]
        }
      ]
    }
  ]
}